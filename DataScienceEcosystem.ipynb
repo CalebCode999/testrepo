{
 "cells": [
  {
   "cell_type": "markdown",
   "id": "21786c8a-4e09-4787-b90b-c7d7c0959d0f",
   "metadata": {},
   "source": [
    "# Data Science Tools and Ecosystem"
   ]
  },
  {
   "cell_type": "markdown",
   "id": "74c90229-fce5-4c97-9c05-fbbb6432b238",
   "metadata": {},
   "source": [
    "In this notebook, Data Science Tools and Ecosystem are summarized."
   ]
  },
  {
   "cell_type": "markdown",
   "id": "743d2dc9-feb9-49da-ac6b-07d8c03db3cc",
   "metadata": {},
   "source": [
    "**Objectives**\n",
    "* Create a Jupyter Notebook\n",
    "\n",
    "* Insert code and markdown cells\n",
    "\n",
    "* Share your notebook through GitHub"
   ]
  },
  {
   "cell_type": "markdown",
   "id": "27afa51d-e79a-4753-86ec-36c7d8a35b2a",
   "metadata": {},
   "source": [
    "- Python\n",
    "- R      \n",
    "- SQL"
   ]
  },
  {
   "cell_type": "code",
   "execution_count": null,
   "id": "958531d7-bacb-4c70-b0a9-1f24c5b0c7a9",
   "metadata": {},
   "outputs": [],
   "source": [
    "Some of the commonly used libraries used by Data Scientists include:\n",
    "1. scikitlearn \n",
    "2. tkeras \n",
    "3. caret \n",
    "4. ggplot\n",
    "5. tensorflow"
   ]
  },
  {
   "cell_type": "code",
   "execution_count": null,
   "id": "95f98719-27e9-45fc-a14c-912fc919ed35",
   "metadata": {},
   "outputs": [],
   "source": [
    "|Data Science Tools|\n",
    "|--------------------|\n",
    "| RStudio|\n",
    "|Jupyter|\n",
    "|GitHub|\n"
   ]
  },
  {
   "cell_type": "markdown",
   "id": "45c6d4b9-ef25-420b-8338-e0de0cce4063",
   "metadata": {},
   "source": [
    "### Below are a few examples of evaluating arithmetic expressions in Python"
   ]
  },
  {
   "cell_type": "code",
   "execution_count": 3,
   "id": "b45a65b7-acd6-4758-abaa-e93180dd4286",
   "metadata": {},
   "outputs": [
    {
     "data": {
      "text/plain": [
       "17"
      ]
     },
     "execution_count": 3,
     "metadata": {},
     "output_type": "execute_result"
    }
   ],
   "source": [
    "(3*4)+5\n",
    "# This a simple arithmetic expression to mutiply then add integers"
   ]
  },
  {
   "cell_type": "code",
   "execution_count": 2,
   "id": "1a9c7638-fe42-4d2c-b007-a2247f62198b",
   "metadata": {},
   "outputs": [
    {
     "data": {
      "text/plain": [
       "3.3333333333333335"
      ]
     },
     "execution_count": 2,
     "metadata": {},
     "output_type": "execute_result"
    }
   ],
   "source": [
    "200/60\n",
    "#This will convert 200 minutes to hours by diving by 60"
   ]
  },
  {
   "cell_type": "markdown",
   "id": "d26bb3cd-6eed-4676-ace1-c16ddcca222d",
   "metadata": {},
   "source": [
    "## Author\n",
    "CHALLA Caleb Emmanuel"
   ]
  },
  {
   "cell_type": "code",
   "execution_count": null,
   "id": "20b0d278-47da-4e02-b70f-fad4c10cc3c4",
   "metadata": {},
   "outputs": [],
   "source": []
  }
 ],
 "metadata": {
  "kernelspec": {
   "display_name": "Python 3 (ipykernel)",
   "language": "python",
   "name": "python3"
  },
  "language_info": {
   "codemirror_mode": {
    "name": "ipython",
    "version": 3
   },
   "file_extension": ".py",
   "mimetype": "text/x-python",
   "name": "python",
   "nbconvert_exporter": "python",
   "pygments_lexer": "ipython3",
   "version": "3.11.9"
  }
 },
 "nbformat": 4,
 "nbformat_minor": 5
}
